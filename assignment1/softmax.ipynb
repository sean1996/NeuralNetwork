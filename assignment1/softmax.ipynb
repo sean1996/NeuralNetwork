{
 "cells": [
  {
   "cell_type": "markdown",
   "metadata": {},
   "source": [
    "# Softmax exercise\n",
    "\n",
    "*Complete and hand in this completed worksheet (including its outputs and any supporting code outside of the worksheet) with your assignment submission. For more details see the [assignments page](http://vision.stanford.edu/teaching/cs231n/assignments.html) on the course website.*\n",
    "\n",
    "This exercise is analogous to the SVM exercise. You will:\n",
    "\n",
    "- implement a fully-vectorized **loss function** for the Softmax classifier\n",
    "- implement the fully-vectorized expression for its **analytic gradient**\n",
    "- **check your implementation** with numerical gradient\n",
    "- use a validation set to **tune the learning rate and regularization** strength\n",
    "- **optimize** the loss function with **SGD**\n",
    "- **visualize** the final learned weights\n"
   ]
  },
  {
   "cell_type": "code",
   "execution_count": 4,
   "metadata": {
    "collapsed": false
   },
   "outputs": [
    {
     "name": "stdout",
     "output_type": "stream",
     "text": [
      "The autoreload extension is already loaded. To reload it, use:\n",
      "  %reload_ext autoreload\n"
     ]
    }
   ],
   "source": [
    "import random\n",
    "import numpy as np\n",
    "from cs231n.data_utils import load_CIFAR10\n",
    "import matplotlib.pyplot as plt\n",
    "%matplotlib inline\n",
    "plt.rcParams['figure.figsize'] = (10.0, 8.0) # set default size of plots\n",
    "plt.rcParams['image.interpolation'] = 'nearest'\n",
    "plt.rcParams['image.cmap'] = 'gray'\n",
    "\n",
    "# for auto-reloading extenrnal modules\n",
    "# see http://stackoverflow.com/questions/1907993/autoreload-of-modules-in-ipython\n",
    "%load_ext autoreload\n",
    "%autoreload 2"
   ]
  },
  {
   "cell_type": "code",
   "execution_count": 5,
   "metadata": {
    "collapsed": false
   },
   "outputs": [
    {
     "name": "stdout",
     "output_type": "stream",
     "text": [
      "Train data shape:  (49000, 3073)\n",
      "Train labels shape:  (49000,)\n",
      "Validation data shape:  (1000, 3073)\n",
      "Validation labels shape:  (1000,)\n",
      "Test data shape:  (1000, 3073)\n",
      "Test labels shape:  (1000,)\n",
      "dev data shape:  (500, 3073)\n",
      "dev labels shape:  (500,)\n"
     ]
    }
   ],
   "source": [
    "def get_CIFAR10_data(num_training=49000, num_validation=1000, num_test=1000, num_dev=500):\n",
    "  \"\"\"\n",
    "  Load the CIFAR-10 dataset from disk and perform preprocessing to prepare\n",
    "  it for the linear classifier. These are the same steps as we used for the\n",
    "  SVM, but condensed to a single function.  \n",
    "  \"\"\"\n",
    "  # Load the raw CIFAR-10 data\n",
    "  cifar10_dir = 'cs231n/datasets/cifar-10-batches-py'\n",
    "  X_train, y_train, X_test, y_test = load_CIFAR10(cifar10_dir)\n",
    "  \n",
    "  # subsample the data\n",
    "  mask = range(num_training, num_training + num_validation)\n",
    "  X_val = X_train[mask]\n",
    "  y_val = y_train[mask]\n",
    "  mask = range(num_training)\n",
    "  X_train = X_train[mask]\n",
    "  y_train = y_train[mask]\n",
    "  mask = range(num_test)\n",
    "  X_test = X_test[mask]\n",
    "  y_test = y_test[mask]\n",
    "  mask = np.random.choice(num_training, num_dev, replace=False)\n",
    "  X_dev = X_train[mask]\n",
    "  y_dev = y_train[mask]\n",
    "  \n",
    "  # Preprocessing: reshape the image data into rows\n",
    "  X_train = np.reshape(X_train, (X_train.shape[0], -1))\n",
    "  X_val = np.reshape(X_val, (X_val.shape[0], -1))\n",
    "  X_test = np.reshape(X_test, (X_test.shape[0], -1))\n",
    "  X_dev = np.reshape(X_dev, (X_dev.shape[0], -1))\n",
    "  \n",
    "  # Normalize the data: subtract the mean image\n",
    "  mean_image = np.mean(X_train, axis = 0)\n",
    "  X_train -= mean_image\n",
    "  X_val -= mean_image\n",
    "  X_test -= mean_image\n",
    "  X_dev -= mean_image\n",
    "  \n",
    "  # add bias dimension and transform into columns\n",
    "  X_train = np.hstack([X_train, np.ones((X_train.shape[0], 1))])\n",
    "  X_val = np.hstack([X_val, np.ones((X_val.shape[0], 1))])\n",
    "  X_test = np.hstack([X_test, np.ones((X_test.shape[0], 1))])\n",
    "  X_dev = np.hstack([X_dev, np.ones((X_dev.shape[0], 1))])\n",
    "  \n",
    "  return X_train, y_train, X_val, y_val, X_test, y_test, X_dev, y_dev\n",
    "\n",
    "\n",
    "# Invoke the above function to get our data.\n",
    "X_train, y_train, X_val, y_val, X_test, y_test, X_dev, y_dev = get_CIFAR10_data()\n",
    "print 'Train data shape: ', X_train.shape\n",
    "print 'Train labels shape: ', y_train.shape\n",
    "print 'Validation data shape: ', X_val.shape\n",
    "print 'Validation labels shape: ', y_val.shape\n",
    "print 'Test data shape: ', X_test.shape\n",
    "print 'Test labels shape: ', y_test.shape\n",
    "print 'dev data shape: ', X_dev.shape\n",
    "print 'dev labels shape: ', y_dev.shape"
   ]
  },
  {
   "cell_type": "markdown",
   "metadata": {},
   "source": [
    "## Softmax Classifier\n",
    "\n",
    "Your code for this section will all be written inside **cs231n/classifiers/softmax.py**. \n"
   ]
  },
  {
   "cell_type": "code",
   "execution_count": 13,
   "metadata": {
    "collapsed": false
   },
   "outputs": [
    {
     "name": "stdout",
     "output_type": "stream",
     "text": [
      "loss: 2.357657\n",
      "sanity check: 2.302585\n"
     ]
    }
   ],
   "source": [
    "# First implement the naive softmax loss function with nested loops.\n",
    "# Open the file cs231n/classifiers/softmax.py and implement the\n",
    "# softmax_loss_naive function.\n",
    "\n",
    "from cs231n.classifiers.softmax import softmax_loss_naive\n",
    "import time\n",
    "\n",
    "# Generate a random softmax weight matrix and use it to compute the loss.\n",
    "W = np.random.randn(3073, 10) * 0.0001\n",
    "loss, grad = softmax_loss_naive(W, X_dev, y_dev, 0.0)\n",
    "\n",
    "# As a rough sanity check, our loss should be something close to -log(0.1).\n",
    "print 'loss: %f' % loss\n",
    "print 'sanity check: %f' % (-np.log(0.1))"
   ]
  },
  {
   "cell_type": "markdown",
   "metadata": {},
   "source": [
    "## Inline Question 1:\n",
    "Why do we expect our loss to be close to -log(0.1)? Explain briefly.**\n",
    "\n",
    "**Your answer:** *Since we're evaluating the loss value of a randomly chosen matrix W, the probability of function f predicting y = yi is roughly 0.1 because of the randomness, thus the loss should be close to -log(0.1)*\n"
   ]
  },
  {
   "cell_type": "code",
   "execution_count": 16,
   "metadata": {
    "collapsed": false
   },
   "outputs": [
    {
     "name": "stdout",
     "output_type": "stream",
     "text": [
      "numerical: 2.314774 analytic: 2.314774, relative error: 1.706253e-08\n",
      "numerical: 0.183241 analytic: 0.183241, relative error: 2.743127e-07\n",
      "numerical: 3.924059 analytic: 3.924059, relative error: 1.547840e-08\n",
      "numerical: 0.225920 analytic: 0.225920, relative error: 6.859142e-08\n",
      "numerical: 0.903502 analytic: 0.903502, relative error: 4.056517e-08\n",
      "numerical: -0.976274 analytic: -0.976274, relative error: 2.112717e-08\n",
      "numerical: -2.826555 analytic: -2.826555, relative error: 1.894905e-09\n",
      "numerical: 0.626899 analytic: 0.626899, relative error: 1.552724e-08\n",
      "numerical: 1.130952 analytic: 1.130952, relative error: 3.011692e-08\n",
      "numerical: 2.041677 analytic: 2.041677, relative error: 3.426473e-08\n",
      "numerical: 0.058367 analytic: 0.058367, relative error: 4.627631e-07\n",
      "numerical: 1.315855 analytic: 1.315855, relative error: 1.555919e-08\n",
      "numerical: -1.455280 analytic: -1.455280, relative error: 7.758506e-09\n",
      "numerical: -1.793884 analytic: -1.793884, relative error: 1.814181e-08\n",
      "numerical: -0.518503 analytic: -0.518503, relative error: 5.736165e-08\n",
      "numerical: 0.520344 analytic: 0.520344, relative error: 1.226523e-07\n",
      "numerical: 1.752557 analytic: 1.752557, relative error: 3.247754e-08\n",
      "numerical: 0.243909 analytic: 0.243909, relative error: 4.418273e-08\n",
      "numerical: 1.498745 analytic: 1.498745, relative error: 2.294859e-09\n",
      "numerical: 0.045107 analytic: 0.045107, relative error: 5.612057e-08\n"
     ]
    }
   ],
   "source": [
    "# Complete the implementation of softmax_loss_naive and implement a (naive)\n",
    "# version of the gradient that uses nested loops.\n",
    "loss, grad = softmax_loss_naive(W, X_dev, y_dev, 0.0)\n",
    "\n",
    "# As we did for the SVM, use numeric gradient checking as a debugging tool.\n",
    "# The numeric gradient should be close to the analytic gradient.\n",
    "from cs231n.gradient_check import grad_check_sparse\n",
    "f = lambda w: softmax_loss_naive(w, X_dev, y_dev, 0.0)[0]\n",
    "grad_numerical = grad_check_sparse(f, W, grad, 10)\n",
    "\n",
    "# similar to SVM case, do another gradient check with regularization\n",
    "loss, grad = softmax_loss_naive(W, X_dev, y_dev, 1e2)\n",
    "f = lambda w: softmax_loss_naive(w, X_dev, y_dev, 1e2)[0]\n",
    "grad_numerical = grad_check_sparse(f, W, grad, 10)"
   ]
  },
  {
   "cell_type": "code",
   "execution_count": 17,
   "metadata": {
    "collapsed": false
   },
   "outputs": [
    {
     "name": "stdout",
     "output_type": "stream",
     "text": [
      "naive loss: 2.357657e+00 computed in 0.128455s\n",
      "vectorized loss: 2.357657e+00 computed in 0.026595s\n",
      "Loss difference: 0.000000\n",
      "Gradient difference: 0.000000\n"
     ]
    }
   ],
   "source": [
    "# Now that we have a naive implementation of the softmax loss function and its gradient,\n",
    "# implement a vectorized version in softmax_loss_vectorized.\n",
    "# The two versions should compute the same results, but the vectorized version should be\n",
    "# much faster.\n",
    "tic = time.time()\n",
    "loss_naive, grad_naive = softmax_loss_naive(W, X_dev, y_dev, 0.00001)\n",
    "toc = time.time()\n",
    "print 'naive loss: %e computed in %fs' % (loss_naive, toc - tic)\n",
    "\n",
    "from cs231n.classifiers.softmax import softmax_loss_vectorized\n",
    "tic = time.time()\n",
    "loss_vectorized, grad_vectorized = softmax_loss_vectorized(W, X_dev, y_dev, 0.00001)\n",
    "toc = time.time()\n",
    "print 'vectorized loss: %e computed in %fs' % (loss_vectorized, toc - tic)\n",
    "\n",
    "# As we did for the SVM, we use the Frobenius norm to compare the two versions\n",
    "# of the gradient.\n",
    "grad_difference = np.linalg.norm(grad_naive - grad_vectorized, ord='fro')\n",
    "print 'Loss difference: %f' % np.abs(loss_naive - loss_vectorized)\n",
    "print 'Gradient difference: %f' % grad_difference"
   ]
  },
  {
   "cell_type": "code",
   "execution_count": 21,
   "metadata": {
    "collapsed": false
   },
   "outputs": [
    {
     "name": "stdout",
     "output_type": "stream",
     "text": [
      "lr 1.400000e-07 reg 7.000000e+03 train accuracy: 0.346959 val accuracy: 0.353000\n",
      "lr 1.400000e-07 reg 8.000000e+03 train accuracy: 0.350224 val accuracy: 0.373000\n",
      "lr 1.400000e-07 reg 9.000000e+03 train accuracy: 0.363306 val accuracy: 0.371000\n",
      "lr 1.400000e-07 reg 1.000000e+04 train accuracy: 0.361184 val accuracy: 0.380000\n",
      "lr 1.400000e-07 reg 1.100000e+04 train accuracy: 0.362510 val accuracy: 0.363000\n",
      "lr 1.400000e-07 reg 1.200000e+04 train accuracy: 0.364878 val accuracy: 0.378000\n",
      "lr 1.400000e-07 reg 1.700000e+04 train accuracy: 0.362714 val accuracy: 0.382000\n",
      "lr 1.400000e-07 reg 1.800000e+04 train accuracy: 0.357347 val accuracy: 0.367000\n",
      "lr 1.400000e-07 reg 1.900000e+04 train accuracy: 0.358551 val accuracy: 0.376000\n",
      "lr 1.400000e-07 reg 2.000000e+04 train accuracy: 0.360408 val accuracy: 0.377000\n",
      "lr 1.400000e-07 reg 2.100000e+04 train accuracy: 0.351306 val accuracy: 0.367000\n",
      "lr 1.400000e-07 reg 2.200000e+04 train accuracy: 0.353347 val accuracy: 0.370000\n",
      "lr 1.500000e-07 reg 7.000000e+03 train accuracy: 0.349633 val accuracy: 0.357000\n",
      "lr 1.500000e-07 reg 8.000000e+03 train accuracy: 0.357918 val accuracy: 0.355000\n",
      "lr 1.500000e-07 reg 9.000000e+03 train accuracy: 0.360041 val accuracy: 0.369000\n",
      "lr 1.500000e-07 reg 1.000000e+04 train accuracy: 0.364429 val accuracy: 0.373000\n",
      "lr 1.500000e-07 reg 1.100000e+04 train accuracy: 0.367102 val accuracy: 0.378000\n",
      "lr 1.500000e-07 reg 1.200000e+04 train accuracy: 0.365000 val accuracy: 0.391000\n",
      "lr 1.500000e-07 reg 1.700000e+04 train accuracy: 0.358673 val accuracy: 0.377000\n",
      "lr 1.500000e-07 reg 1.800000e+04 train accuracy: 0.357816 val accuracy: 0.378000\n",
      "lr 1.500000e-07 reg 1.900000e+04 train accuracy: 0.359694 val accuracy: 0.376000\n",
      "lr 1.500000e-07 reg 2.000000e+04 train accuracy: 0.354082 val accuracy: 0.370000\n",
      "lr 1.500000e-07 reg 2.100000e+04 train accuracy: 0.357980 val accuracy: 0.373000\n",
      "lr 1.500000e-07 reg 2.200000e+04 train accuracy: 0.351551 val accuracy: 0.363000\n",
      "lr 1.600000e-07 reg 7.000000e+03 train accuracy: 0.357367 val accuracy: 0.365000\n",
      "lr 1.600000e-07 reg 8.000000e+03 train accuracy: 0.359633 val accuracy: 0.355000\n",
      "lr 1.600000e-07 reg 9.000000e+03 train accuracy: 0.365000 val accuracy: 0.379000\n",
      "lr 1.600000e-07 reg 1.000000e+04 train accuracy: 0.366306 val accuracy: 0.389000\n",
      "lr 1.600000e-07 reg 1.100000e+04 train accuracy: 0.367980 val accuracy: 0.385000\n",
      "lr 1.600000e-07 reg 1.200000e+04 train accuracy: 0.366041 val accuracy: 0.380000\n",
      "lr 1.600000e-07 reg 1.700000e+04 train accuracy: 0.359184 val accuracy: 0.371000\n",
      "lr 1.600000e-07 reg 1.800000e+04 train accuracy: 0.360367 val accuracy: 0.381000\n",
      "lr 1.600000e-07 reg 1.900000e+04 train accuracy: 0.361184 val accuracy: 0.370000\n",
      "lr 1.600000e-07 reg 2.000000e+04 train accuracy: 0.356551 val accuracy: 0.373000\n",
      "lr 1.600000e-07 reg 2.100000e+04 train accuracy: 0.354857 val accuracy: 0.362000\n",
      "lr 1.600000e-07 reg 2.200000e+04 train accuracy: 0.353898 val accuracy: 0.362000\n",
      "best validation accuracy achieved during cross-validation: 0.391000\n"
     ]
    }
   ],
   "source": [
    "# Use the validation set to tune hyperparameters (regularization strength and\n",
    "# learning rate). You should experiment with different ranges for the learning\n",
    "# rates and regularization strengths; if you are careful you should be able to\n",
    "# get a classification accuracy of over 0.35 on the validation set.\n",
    "from cs231n.classifiers import Softmax\n",
    "\n",
    "results = {}\n",
    "best_val = -1\n",
    "best_softmax = None\n",
    "\n",
    "learning_rates = [1.4e-7, 1.5e-7, 1.6e-7]\n",
    "regularization_strengths = [(1+i*0.1)*1e4 for i in range(-3,3)] + [(2+0.1*i)*1e4 for i in range(-3,3)]\n",
    "\n",
    "################################################################################\n",
    "# TODO:                                                                        #\n",
    "# Use the validation set to set the learning rate and regularization strength. #\n",
    "# This should be identical to the validation that you did for the SVM; save    #\n",
    "# the best trained softmax classifer in best_softmax.                          #\n",
    "################################################################################\n",
    "for rate in learning_rates:\n",
    "    for reg in regularization_strengths:\n",
    "        softmax = Softmax()\n",
    "        loss_hista = softmax.train(X_train, y_train, learning_rate = rate, reg = reg,\n",
    "                      num_iters=1500, verbose = False)\n",
    "        y_train_pred = softmax.predict(X_train)\n",
    "        train_accuracy = np.mean(y_train == y_train_pred)\n",
    "        y_val_pred = softmax.predict(X_val)\n",
    "        validation_accuracy = np.mean(y_val == y_val_pred)\n",
    "        results[(rate, reg)] = (train_accuracy, validation_accuracy)\n",
    "        #update best svm trained so far\n",
    "        if validation_accuracy > best_val:\n",
    "            best_val = validation_accuracy\n",
    "            best_softmax = softmax\n",
    "################################################################################\n",
    "#                              END OF YOUR CODE                                #\n",
    "################################################################################\n",
    "    \n",
    "# Print out results.\n",
    "for lr, reg in sorted(results):\n",
    "    train_accuracy, val_accuracy = results[(lr, reg)]\n",
    "    print 'lr %e reg %e train accuracy: %f val accuracy: %f' % (\n",
    "                lr, reg, train_accuracy, val_accuracy)\n",
    "    \n",
    "print 'best validation accuracy achieved during cross-validation: %f' % best_val"
   ]
  },
  {
   "cell_type": "code",
   "execution_count": 22,
   "metadata": {
    "collapsed": false
   },
   "outputs": [
    {
     "name": "stdout",
     "output_type": "stream",
     "text": [
      "softmax on raw pixels final test set accuracy: 0.364000\n"
     ]
    }
   ],
   "source": [
    "# evaluate on test set\n",
    "# Evaluate the best softmax on test set\n",
    "y_test_pred = best_softmax.predict(X_test)\n",
    "test_accuracy = np.mean(y_test == y_test_pred)\n",
    "print 'softmax on raw pixels final test set accuracy: %f' % (test_accuracy, )"
   ]
  },
  {
   "cell_type": "code",
   "execution_count": 23,
   "metadata": {
    "collapsed": false
   },
   "outputs": [
    {
     "data": {
      "image/png": "[encoded data removed]",
      "text/plain": [
       "<matplotlib.figure.Figure at 0x118ec2d10>"
      ]
     },
     "metadata": {},
     "output_type": "display_data"
    }
   ],
   "source": [
    "# Visualize the learned weights for each class\n",
    "w = best_softmax.W[:-1,:] # strip out the bias\n",
    "w = w.reshape(32, 32, 3, 10)\n",
    "\n",
    "w_min, w_max = np.min(w), np.max(w)\n",
    "\n",
    "classes = ['plane', 'car', 'bird', 'cat', 'deer', 'dog', 'frog', 'horse', 'ship', 'truck']\n",
    "for i in xrange(10):\n",
    "  plt.subplot(2, 5, i + 1)\n",
    "  \n",
    "  # Rescale the weights to be between 0 and 255\n",
    "  wimg = 255.0 * (w[:, :, :, i].squeeze() - w_min) / (w_max - w_min)\n",
    "  plt.imshow(wimg.astype('uint8'))\n",
    "  plt.axis('off')\n",
    "  plt.title(classes[i])"
   ]
  },
  {
   "cell_type": "code",
   "execution_count": null,
   "metadata": {
    "collapsed": true
   },
   "outputs": [],
   "source": []
  }
 ],
 "metadata": {
  "kernelspec": {
   "display_name": "Python 2",
   "language": "python",
   "name": "python2"
  },
  "language_info": {
   "codemirror_mode": {
    "name": "ipython",
    "version": 2
   },
   "file_extension": ".py",
   "mimetype": "text/x-python",
   "name": "python",
   "nbconvert_exporter": "python",
   "pygments_lexer": "ipython2",
   "version": "2.7.13"
  }
 },
 "nbformat": 4,
 "nbformat_minor": 0
}
